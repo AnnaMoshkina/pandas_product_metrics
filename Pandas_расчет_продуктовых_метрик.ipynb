{
 "cells": [
  {
   "cell_type": "markdown",
   "metadata": {
    "id": "16Sopma_-qea"
   },
   "source": [
    "\n",
    "\n",
    "**В данном кейсе рассчитаны следующие метрики:**\n",
    "* retention\n",
    "* rolling retention\n",
    "* lifetime\n",
    "* churn rate\n",
    "* mau\n",
    "* wau\n",
    "* dau"
   ]
  },
  {
   "cell_type": "markdown",
   "metadata": {
    "id": "DHjVptT1-5mB"
   },
   "source": [
    "**Исходные данные**  \n",
    "Файлами для работы являются registrations.csv и entries.csv. В них хранятся данные о регистрациях пользователей и входа на платформу соответственно."
   ]
  },
  {
   "cell_type": "code",
   "execution_count": 1,
   "metadata": {
    "id": "2wQpPrEFiI-T"
   },
   "outputs": [],
   "source": [
    "# готовим датафрейм для расчета метрик\n",
    "import pandas as pd\n",
    "import warnings\n",
    "warnings.simplefilter(action = 'ignore', category = )\n",
    "registrations = pd.read_csv('registrations.csv', sep = ';')\n",
    "entries = pd.read_csv('entries.csv', sep = ';')\n",
    "df = pd.merge(registrations, entries, how = 'left', on = 'user_id') # объединенный датафрейм для расчета метрик\n",
    "df['entry_date'] = pd.to_datetime(df['entry_date'], format = '%Y-%m-%d')\n",
    "df['registration_date'] = pd.to_datetime(df['registration_date'], format = '%Y-%m-%d')"
   ]
  },
  {
   "cell_type": "code",
   "execution_count": 3,
   "metadata": {},
   "outputs": [
    {
     "data": {
      "text/html": [
       "<div>\n",
       "<style scoped>\n",
       "    .dataframe tbody tr th:only-of-type {\n",
       "        vertical-align: middle;\n",
       "    }\n",
       "\n",
       "    .dataframe tbody tr th {\n",
       "        vertical-align: top;\n",
       "    }\n",
       "\n",
       "    .dataframe thead th {\n",
       "        text-align: right;\n",
       "    }\n",
       "</style>\n",
       "<table border=\"1\" class=\"dataframe\">\n",
       "  <thead>\n",
       "    <tr style=\"text-align: right;\">\n",
       "      <th></th>\n",
       "      <th>user_id</th>\n",
       "      <th>registration_date</th>\n",
       "      <th>entry_date</th>\n",
       "    </tr>\n",
       "  </thead>\n",
       "  <tbody>\n",
       "    <tr>\n",
       "      <th>0</th>\n",
       "      <td>1</td>\n",
       "      <td>2021-01-01</td>\n",
       "      <td>2021-01-01</td>\n",
       "    </tr>\n",
       "    <tr>\n",
       "      <th>1</th>\n",
       "      <td>1</td>\n",
       "      <td>2021-01-01</td>\n",
       "      <td>2021-01-03</td>\n",
       "    </tr>\n",
       "    <tr>\n",
       "      <th>2</th>\n",
       "      <td>1</td>\n",
       "      <td>2021-01-01</td>\n",
       "      <td>2021-01-04</td>\n",
       "    </tr>\n",
       "    <tr>\n",
       "      <th>3</th>\n",
       "      <td>1</td>\n",
       "      <td>2021-01-01</td>\n",
       "      <td>2021-01-04</td>\n",
       "    </tr>\n",
       "    <tr>\n",
       "      <th>4</th>\n",
       "      <td>1</td>\n",
       "      <td>2021-01-01</td>\n",
       "      <td>2021-01-05</td>\n",
       "    </tr>\n",
       "  </tbody>\n",
       "</table>\n",
       "</div>"
      ],
      "text/plain": [
       "   user_id registration_date entry_date\n",
       "0        1        2021-01-01 2021-01-01\n",
       "1        1        2021-01-01 2021-01-03\n",
       "2        1        2021-01-01 2021-01-04\n",
       "3        1        2021-01-01 2021-01-04\n",
       "4        1        2021-01-01 2021-01-05"
      ]
     },
     "execution_count": 3,
     "metadata": {},
     "output_type": "execute_result"
    }
   ],
   "source": [
    "df.head()"
   ]
  },
  {
   "cell_type": "markdown",
   "metadata": {
    "id": "rEf5OZho_SC5"
   },
   "source": [
    "**1. Посчитайте Retention 15 дня для пользователей, зарегистрированных в январе**  \n",
    "Cохраните результат в переменную retention_15_day.  \n",
    "Примечание: результат округлите до 5 знаков после запятой."
   ]
  },
  {
   "cell_type": "code",
   "execution_count": 4,
   "metadata": {
    "colab": {
     "base_uri": "https://localhost:8080/"
    },
    "id": "8W514lsQ-_f1",
    "outputId": "3201fba3-3879-4ea5-cc45-aa23a5e7591a"
   },
   "outputs": [
    {
     "name": "stderr",
     "output_type": "stream",
     "text": [
      "C:\\Users\\Анна\\AppData\\Local\\Temp\\ipykernel_10572\\3973618502.py:3: UserWarning: Boolean Series key will be reindexed to match DataFrame index.\n",
      "  df_jan_15 = df_jan[df['diff'] == '15 days']\n"
     ]
    },
    {
     "data": {
      "text/plain": [
       "54.65116"
      ]
     },
     "execution_count": 4,
     "metadata": {},
     "output_type": "execute_result"
    }
   ],
   "source": [
    "df['diff'] = df['entry_date'] - df['registration_date']\n",
    "df_jan = df[df['registration_date'].dt.month == 1]\n",
    "df_jan_15 = df_jan[df['diff'] == '15 days']\n",
    "retention_15_day = round(df_jan_15['user_id'].nunique()/df_jan['user_id'].nunique() * 100, 5)\n",
    "retention_15_day"
   ]
  },
  {
   "cell_type": "markdown",
   "metadata": {
    "id": "8V_1hzNL_ieC"
   },
   "source": [
    "**2. Посчитайте Rolling-retention 30 дня для пользователей из той же когорты**  \n",
    "Сохраните результат в переменную rolling_retention.  \n",
    "Примечание: результат округлите до 5 знаков после запятой."
   ]
  },
  {
   "cell_type": "code",
   "execution_count": 5,
   "metadata": {
    "colab": {
     "base_uri": "https://localhost:8080/"
    },
    "id": "xwVTQOED_01f",
    "outputId": "908e0c4b-eae5-4c7b-db93-d6b1582170df"
   },
   "outputs": [
    {
     "name": "stderr",
     "output_type": "stream",
     "text": [
      "C:\\Users\\Анна\\AppData\\Local\\Temp\\ipykernel_10572\\1622781401.py:1: UserWarning: Boolean Series key will be reindexed to match DataFrame index.\n",
      "  df_jan_roll_30 = df_jan[df['diff'] >= '30 days']\n"
     ]
    },
    {
     "data": {
      "text/plain": [
       "29.06977"
      ]
     },
     "execution_count": 5,
     "metadata": {},
     "output_type": "execute_result"
    }
   ],
   "source": [
    "df_jan_roll_30 = df_jan[df['diff'] >= '30 days']\n",
    "rolling_retention = round(df_jan_roll_30['user_id'].nunique()/df_jan['user_id'].nunique() * 100, 5)\n",
    "rolling_retention"
   ]
  },
  {
   "cell_type": "markdown",
   "metadata": {
    "id": "v1JhBq2F_29o"
   },
   "source": [
    "**3. Посчитайте Lifetime по всем пользователям, посчитанный как интеграл от n-day retention**  \n",
    "Сохраните результат в переменную lifetime  \n",
    "Примечание: результат округлите до 5 знаков после запятой"
   ]
  },
  {
   "cell_type": "code",
   "execution_count": 6,
   "metadata": {
    "colab": {
     "base_uri": "https://localhost:8080/"
    },
    "id": "kKqmpvkgAIgx",
    "outputId": "9577a8bf-6e9e-4234-851e-08c7e2659390"
   },
   "outputs": [
    {
     "data": {
      "text/plain": [
       "14.804"
      ]
     },
     "execution_count": 6,
     "metadata": {},
     "output_type": "execute_result"
    }
   ],
   "source": [
    "df_lifetime = df.groupby(['diff']).agg({'user_id': 'nunique'}).reset_index()\n",
    "df_lifetime['n_day_ret'] = df_lifetime['user_id'] / df['user_id'].nunique()\n",
    "lifetime = round(sum(df_lifetime['n_day_ret']), 5)\n",
    "lifetime"
   ]
  },
  {
   "cell_type": "markdown",
   "metadata": {
    "id": "osznbgOBhWxF"
   },
   "source": [
    "**4. Посчитайте Churn rate 29 дня, посчитанный по всем пользователям**  \n",
    "Сохраните результат в переменную churn_29"
   ]
  },
  {
   "cell_type": "code",
   "execution_count": 7,
   "metadata": {
    "colab": {
     "base_uri": "https://localhost:8080/"
    },
    "id": "H-lBWY0ThjXa",
    "outputId": "4f350a21-e5cc-43ba-9860-5f060ee7d30e"
   },
   "outputs": [
    {
     "data": {
      "text/plain": [
       "0.509"
      ]
     },
     "execution_count": 7,
     "metadata": {},
     "output_type": "execute_result"
    }
   ],
   "source": [
    "df_29 = df[df['diff'] >= '29 days']\n",
    "churn_29 = (df['user_id'].nunique() - df_29['user_id'].nunique())/df['user_id'].nunique()\n",
    "churn_29"
   ]
  },
  {
   "cell_type": "markdown",
   "metadata": {
    "id": "Kp2tjV8zhkdu"
   },
   "source": [
    "**5. Посчитайте Mau, Wau, Dau за последний месяц/неделю/день записей**  \n",
    "Сохраните результат в переменные dec_mau, dec_wau, dec_dau соответственно.  \n",
    "Примечание: последний месяц записей - декабрь. Поэтому mau рассчитываем для декабря (2021 года), для wau берем последнюю неделю - с 25 по 31 декабря, и для dau соответственно последний день - 31 декабря."
   ]
  },
  {
   "cell_type": "code",
   "execution_count": 8,
   "metadata": {
    "colab": {
     "base_uri": "https://localhost:8080/"
    },
    "id": "Y787tgNQhvbi",
    "outputId": "34635e47-f217-4bcd-ad29-2e32f216a7a1"
   },
   "outputs": [
    {
     "data": {
      "text/plain": [
       "133"
      ]
     },
     "execution_count": 8,
     "metadata": {},
     "output_type": "execute_result"
    }
   ],
   "source": [
    "df_dec_mau = df[df['entry_date'].dt.month == 12]\n",
    "dec_mau = df_dec_mau['user_id'].nunique()\n",
    "dec_mau"
   ]
  },
  {
   "cell_type": "code",
   "execution_count": 9,
   "metadata": {
    "colab": {
     "base_uri": "https://localhost:8080/"
    },
    "id": "2AreNvvHie89",
    "outputId": "c3904e72-dea7-4429-8613-53d1b5b95ece"
   },
   "outputs": [
    {
     "data": {
      "text/plain": [
       "84"
      ]
     },
     "execution_count": 9,
     "metadata": {},
     "output_type": "execute_result"
    }
   ],
   "source": [
    "df_dec_wau = df[(df['entry_date'] >= '2021-12-25') & (df['entry_date'] <= '2021-12-31')]\n",
    "dec_wau = df_dec_wau['user_id'].nunique()\n",
    "dec_wau"
   ]
  },
  {
   "cell_type": "code",
   "execution_count": 10,
   "metadata": {
    "colab": {
     "base_uri": "https://localhost:8080/"
    },
    "id": "C5RBkJSdihfV",
    "outputId": "b3cdff07-1cef-445e-97f8-2b5710fec9b2"
   },
   "outputs": [
    {
     "data": {
      "text/plain": [
       "47"
      ]
     },
     "execution_count": 10,
     "metadata": {},
     "output_type": "execute_result"
    }
   ],
   "source": [
    "df_dec_dau = df[df['entry_date'] == '2021-12-31']\n",
    "dec_dau = df_dec_dau['user_id'].nunique()\n",
    "dec_dau"
   ]
  },
  {
   "cell_type": "markdown",
   "metadata": {
    "id": "HbeG2vd5hwN7"
   },
   "source": [
    "**6. Посчитайте Mau, Wau, Dau усредненные**  \n",
    "Сохраните результат в переменные avg_dec_mau, avg_dec_wau, avg_dec_dau соответственно.  \n",
    "Примечание: результаты округлите до 5 знаков после запятой"
   ]
  },
  {
   "cell_type": "code",
   "execution_count": 11,
   "metadata": {
    "colab": {
     "base_uri": "https://localhost:8080/"
    },
    "id": "s4HvK7Nbh61X",
    "outputId": "ab2f417c-ff05-4373-b5e2-9a1beb13e980"
   },
   "outputs": [
    {
     "data": {
      "text/plain": [
       "102.58333"
      ]
     },
     "execution_count": 11,
     "metadata": {},
     "output_type": "execute_result"
    }
   ],
   "source": [
    "df['year_month'] = df['entry_date'].dt.to_period('M')\n",
    "df_avg_dec_mau = df.groupby(['year_month']).agg({'user_id': 'nunique'}).reset_index()\n",
    "avg_dec_mau = round(df_avg_dec_mau['user_id'].mean(), 5)\n",
    "avg_dec_mau"
   ]
  },
  {
   "cell_type": "code",
   "execution_count": 12,
   "metadata": {
    "colab": {
     "base_uri": "https://localhost:8080/"
    },
    "id": "fyXTwBY8inbT",
    "outputId": "76f32a1f-0ecc-49ad-cdca-8e038a2aedd9"
   },
   "outputs": [
    {
     "data": {
      "text/plain": [
       "89.86792"
      ]
     },
     "execution_count": 12,
     "metadata": {},
     "output_type": "execute_result"
    }
   ],
   "source": [
    "df['week'] = df['entry_date'].dt.isocalendar().week\n",
    "df_avg_dec_wau = df.groupby(['week']).agg({'user_id': 'nunique'}).reset_index()\n",
    "avg_dec_wau = round(df_avg_dec_wau['user_id'].mean(), 5)\n",
    "avg_dec_wau"
   ]
  },
  {
   "cell_type": "code",
   "execution_count": 12,
   "metadata": {
    "colab": {
     "base_uri": "https://localhost:8080/"
    },
    "id": "MYk9FHr0iqer",
    "outputId": "d7aab8db-21de-47e0-cab1-c06c9f968233"
   },
   "outputs": [
    {
     "data": {
      "text/plain": [
       "40.5589"
      ]
     },
     "execution_count": 12,
     "metadata": {},
     "output_type": "execute_result"
    }
   ],
   "source": [
    "df_avg_dec_dau = df.groupby(['entry_date']).agg({'user_id': 'nunique'}).reset_index()\n",
    "avg_dec_dau = round(df_avg_dec_dau['user_id'].mean(), 5)\n",
    "avg_dec_dau"
   ]
  }
 ],
 "metadata": {
  "colab": {
   "provenance": []
  },
  "kernelspec": {
   "display_name": "Python 3 (ipykernel)",
   "language": "python",
   "name": "python3"
  },
  "language_info": {
   "codemirror_mode": {
    "name": "ipython",
    "version": 3
   },
   "file_extension": ".py",
   "mimetype": "text/x-python",
   "name": "python",
   "nbconvert_exporter": "python",
   "pygments_lexer": "ipython3",
   "version": "3.11.5"
  }
 },
 "nbformat": 4,
 "nbformat_minor": 1
}
